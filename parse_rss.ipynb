{
 "cells": [
  {
   "cell_type": "code",
   "execution_count": 126,
   "metadata": {},
   "outputs": [],
   "source": [
    "import xml.etree.ElementTree as ET\n",
    "from bs4 import BeautifulSoup\n",
    "from shapely.geometry import *\n",
    "root = ET.parse('mmi-mmi_india (4).xml')\n"
   ]
  },
  {
   "cell_type": "code",
   "execution_count": 127,
   "metadata": {},
   "outputs": [],
   "source": [
    "namespace = {\"georss\": \"http://www.georss.org/georss\"}\n",
    "items = root.findall('.//item', namespace)\n",
    "\n",
    "lines = []\n",
    "points =[]\n",
    "\n",
    "geometry_tags = {\n",
    "    '{http://www.georss.org/georss}line' : lambda x: LineString([(eval(x[i+1]), eval(x[i])) for i in range(0, len(x)-1, 2)]),\n",
    "    '{http://www.georss.org/georss}point' : lambda x: Point(eval(x[1]), eval(x[0])),\n",
    "}\n",
    "\n",
    "for item in items:\n",
    "        # Extract main data\n",
    "    \n",
    "    parsed_data = {\n",
    "        \"title\": item.find(\"title\").text,\n",
    "        # \"link\": item.find(\"link\").text.strip(),\n",
    "        # \"guid\": item.find(\"guid\").text.strip()\n",
    "    }\n",
    "\n",
    "    # Parse <description> section (HTML content)\n",
    "    description_html = item.find(\"description\").text\n",
    "    soup = BeautifulSoup(description_html, \"html.parser\")\n",
    "\n",
    "    # Extract fields from description\n",
    "    attributes = {}\n",
    "    for li in soup.find_all(\"li\"):\n",
    "        key = li.find(\"span\", {\"class\": \"atr-name\"})\n",
    "        value = li.find(\"span\", {\"class\": \"atr-value\"})\n",
    "        if key and value:\n",
    "            attributes[key.text.strip()] = value.text.strip()\n",
    "\n",
    "    parsed_data.update(attributes)\n",
    "    \n",
    "    geometry = item.find(\"georss:*\", namespace).text\n",
    "    tag = (item.find(\"georss:*\", namespace).tag)\n",
    "    fn = geometry_tags.get(tag)\n",
    "    \n",
    "    if gf: \n",
    "        parsed_data['geometry'] = fn(geometry.split(' '))\n",
    "    \n",
    "    if isinstance(parsed_data['geometry'], Point):\n",
    "        points.append(parsed_data)\n",
    "    \n",
    "    if isinstance(parsed_data['geometry'], LineString):\n",
    "        lines.append(parsed_data)"
   ]
  },
  {
   "cell_type": "code",
   "execution_count": 128,
   "metadata": {},
   "outputs": [],
   "source": [
    "import geopandas as gpd"
   ]
  },
  {
   "cell_type": "code",
   "execution_count": 129,
   "metadata": {},
   "outputs": [],
   "source": [
    "poidf = gpd.GeoDataFrame(points)\n",
    "poidf['title'] = poidf.title.apply(lambda x : x.split('.')[0])"
   ]
  },
  {
   "cell_type": "code",
   "execution_count": 130,
   "metadata": {},
   "outputs": [],
   "source": [
    "poidf.loc[poidf.title == 'ka_poi_q4_2022',['title','geometry','id','poi_nme','ftr_cry','cat_dec','loc_nme','city_nme','stt_nme','dist_nme']].set_geometry('geometry').set_crs('EPSG:4326').to_file('data1.gpkg', layer = 'POIS')\n",
    "gpd.GeoDataFrame(lines).set_geometry('geometry').set_crs('EPSG:4326').to_file('data1.gpkg', layer = 'ROADS')"
   ]
  }
 ],
 "metadata": {
  "kernelspec": {
   "display_name": "base",
   "language": "python",
   "name": "python3"
  },
  "language_info": {
   "codemirror_mode": {
    "name": "ipython",
    "version": 3
   },
   "file_extension": ".py",
   "mimetype": "text/x-python",
   "name": "python",
   "nbconvert_exporter": "python",
   "pygments_lexer": "ipython3",
   "version": "3.9.13"
  }
 },
 "nbformat": 4,
 "nbformat_minor": 2
}
